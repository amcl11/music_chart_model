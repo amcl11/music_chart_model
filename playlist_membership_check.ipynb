{
 "cells": [
  {
   "cell_type": "code",
   "execution_count": 4,
   "metadata": {},
   "outputs": [],
   "source": [
    "import spotipy\n",
    "from spotipy.oauth2 import SpotifyOAuth\n",
    "import pandas as pd\n",
    "from api_credentials import client_id, client_secret, redirect_uri"
   ]
  },
  {
   "cell_type": "markdown",
   "metadata": {},
   "source": [
    "## Function: `get_track_position_in_playlist`\n",
    "\n",
    "This function is designed to find the position of a specific track within a Spotify playlist. It requires the Spotify API credentials (`client_id`, `client_secret`, and `redirect_uri`), a `playlist_id`, and a `track_id` to operate.\n",
    "\n",
    "### Parameters:\n",
    "\n",
    "- `client_id`: Your Spotify application's client ID.\n",
    "- `client_secret`: Your Spotify application's client secret.\n",
    "- `redirect_uri`: The redirect URI set in your Spotify application.\n",
    "- `playlist_id`: The Spotify ID of the playlist in which you want to find the track's position.\n",
    "- `track_id`: The Spotify ID of the track whose position you're looking for in the playlist.\n",
    "\n",
    "### Functionality:\n",
    "\n",
    "1. **Initialization**: The function begins by setting the necessary permission scope, `playlist-read-private`, to access private playlist data. It then initializes the Spotify client with the provided credentials.\n",
    "\n",
    "2. **Fetching Playlist Tracks**: Using the Spotify client, the function retrieves the tracks from the specified playlist. It keeps track of the current index (position) starting from `0`.\n",
    "\n",
    "3. **Iterating Through Tracks**: It loops through each track in the playlist:\n",
    "   - If the current track is not `None` (indicating a valid track object), it compares the track's ID with the `track_id` parameter.\n",
    "   - If a match is found, the function returns the current position (index) of the track within the playlist.\n",
    "\n",
    "4. **Pagination Handling**: Spotify paginates long lists of tracks. If the end of a page is reached, the function automatically fetches the next page and continues the search.\n",
    "\n",
    "5. **Result**: \n",
    "   - If the track is found, it returns the `position` (zero-based index) of the track in the playlist.\n",
    "   - If the track is not found after searching through all pages, it returns `-1`."
   ]
  },
  {
   "cell_type": "code",
   "execution_count": 5,
   "metadata": {},
   "outputs": [],
   "source": [
    "def get_track_position_in_playlist(client_id, client_secret, redirect_uri, playlist_id, track_id):\n",
    "    scope = 'playlist-read-private'\n",
    "    sp = spotipy.Spotify(auth_manager=SpotifyOAuth(client_id=client_id,\n",
    "                                                   client_secret=client_secret,\n",
    "                                                   redirect_uri=redirect_uri,\n",
    "                                                   scope=scope))\n",
    "\n",
    "    # Initialize results and position\n",
    "    results = sp.playlist_tracks(playlist_id)\n",
    "    position = 0  # Position starts at 0 and increments for each track\n",
    "\n",
    "    # Loop through the tracks in the playlist\n",
    "    while results:\n",
    "        for item in results['items']:\n",
    "            if item['track'] is not None:\n",
    "                if item['track']['id'] == track_id:\n",
    "                    return position  # Return the position if track ID matches\n",
    "                position += 1  # Increment position counter\n",
    "        results = sp.next(results) if results['next'] else None\n",
    "\n",
    "    return -1  # If track not found, return -1"
   ]
  },
  {
   "cell_type": "code",
   "execution_count": 6,
   "metadata": {},
   "outputs": [
    {
     "name": "stdout",
     "output_type": "stream",
     "text": [
      "The track is in the playlist at position: 8\n"
     ]
    }
   ],
   "source": [
    "# Usage\n",
    "track_id_to_check = \"7gaA3wERFkFkgivjwbSvkG\"\n",
    "playlist_id = \"37i9dQZF1DWXXs9GFYnvLB\"\n",
    "track_position = get_track_position_in_playlist(client_id, client_secret, redirect_uri, playlist_id, track_id_to_check)\n",
    "\n",
    "if track_position != -1:\n",
    "    print(f\"The track is in the playlist at position: {track_position + 1}\")  # +1 to account for 0 indexing \n",
    "else:\n",
    "    print(\"The track is not in the playlist.\")"
   ]
  }
 ],
 "metadata": {
  "kernelspec": {
   "display_name": "dev",
   "language": "python",
   "name": "python3"
  },
  "language_info": {
   "codemirror_mode": {
    "name": "ipython",
    "version": 3
   },
   "file_extension": ".py",
   "mimetype": "text/x-python",
   "name": "python",
   "nbconvert_exporter": "python",
   "pygments_lexer": "ipython3",
   "version": "3.10.11"
  }
 },
 "nbformat": 4,
 "nbformat_minor": 2
}
