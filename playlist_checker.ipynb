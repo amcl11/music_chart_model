{
 "cells": [
  {
   "cell_type": "code",
   "execution_count": 15,
   "metadata": {},
   "outputs": [],
   "source": [
    "# Import necessary libraries\n",
    "import spotipy\n",
    "from spotipy.oauth2 import SpotifyClientCredentials\n",
    "from api_credentials import client_id, client_secret, redirect_uri\n",
    "from playlist_membership_check import get_tracks_positions_in_playlists\n",
    "import json\n",
    "\n",
    "# Load playlists from JSON file\n",
    "with open('playlists.json', 'r') as file:\n",
    "    playlists_dict = json.load(file)\n",
    "\n",
    "# Initialize the Spotify client with client credentials for public data access\n",
    "client_credentials_manager = SpotifyClientCredentials(client_id=client_id, client_secret=client_secret)\n",
    "sp = spotipy.Spotify(client_credentials_manager=client_credentials_manager)\n"
   ]
  },
  {
   "cell_type": "markdown",
   "metadata": {},
   "source": [
    "## Example usage of `get_tracks_position_in_playlist`\n",
    "\n",
    "Checking which playlists and positions Noah Kahan's 'Stick Season' is in"
   ]
  },
  {
   "cell_type": "code",
   "execution_count": 16,
   "metadata": {},
   "outputs": [
    {
     "name": "stdout",
     "output_type": "stream",
     "text": [
      "Track ID 2lJn77IeZAP9cmv6DPXOrL is in the following playlists at these positions:\n",
      "Playlist: New Music Friday AU & NZ: Position #13\n",
      "Playlist: Fresh Country: Position #4\n",
      "Playlist: Pop n' Fresh: Position #20\n",
      "Playlist: Singled Out: Position #3\n"
     ]
    }
   ],
   "source": [
    "# Example: Checking playlists and position for Noah Kahan 'Stick Season'\n",
    "# using it's track_id\n",
    "track_ids = [\n",
    "    #'0mflMxspEfB0VbI1kyLiAv', \n",
    "    '2lJn77IeZAP9cmv6DPXOrL',\n",
    "]\n",
    "\n",
    "track_positions = get_tracks_positions_in_playlists(client_id, client_secret, redirect_uri, playlists_dict, track_ids)\n",
    "\n",
    "for track_id, playlists in track_positions.items():\n",
    "    print(f\"Track ID {track_id} is in the following playlists at these positions:\")\n",
    "    for playlist_name, positions in playlists.items():\n",
    "        positions_str = \", \".join(str(position + 1) for position in positions)  # Create a string of positions, accounting for 0 indexing\n",
    "        print(f\"Playlist: {playlist_name}: Position #{positions_str}\")\n",
    "    if not playlists:\n",
    "        print(\"This track is not in any of the given playlists.\")"
   ]
  },
  {
   "cell_type": "code",
   "execution_count": null,
   "metadata": {},
   "outputs": [],
   "source": []
  }
 ],
 "metadata": {
  "kernelspec": {
   "display_name": "dev",
   "language": "python",
   "name": "python3"
  },
  "language_info": {
   "codemirror_mode": {
    "name": "ipython",
    "version": 3
   },
   "file_extension": ".py",
   "mimetype": "text/x-python",
   "name": "python",
   "nbconvert_exporter": "python",
   "pygments_lexer": "ipython3",
   "version": "3.10.11"
  }
 },
 "nbformat": 4,
 "nbformat_minor": 2
}
