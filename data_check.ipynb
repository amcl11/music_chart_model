{
 "cells": [
  {
   "cell_type": "code",
   "execution_count": 2,
   "metadata": {},
   "outputs": [],
   "source": [
    "# Import necessary libraries\n",
    "import spotipy\n",
    "from spotipy.oauth2 import SpotifyClientCredentials\n",
    "from api_credentials import client_id, client_secret\n",
    "import pandas as pd\n",
    "from functions import get_playlist_tracks_and_artists, find_tracks_positions_in_playlists\n",
    "import json\n",
    "import re\n",
    "\n",
    "# Load list of playlists from JSON file\n",
    "with open('playlists.json', 'r') as file:\n",
    "    playlists_dict = json.load(file)\n",
    "\n",
    "# Initialise the Spotify client with client credentials for public data access\n",
    "client_credentials_manager = SpotifyClientCredentials(client_id=client_id, client_secret=client_secret)\n",
    "sp = spotipy.Spotify(client_credentials_manager=client_credentials_manager)\n",
    "\n",
    "import logging\n",
    "# Configure logging\n",
    "logging.basicConfig(level=logging.INFO,\n",
    "                    format='%(asctime)s - %(levelname)s - %(message)s')"
   ]
  },
  {
   "cell_type": "markdown",
   "metadata": {},
   "source": [
    "### Fetch New Music Friday AU & NZ tracks, and then find which addtional playlists they are in (and their positions):"
   ]
  },
  {
   "cell_type": "code",
   "execution_count": 3,
   "metadata": {},
   "outputs": [
    {
     "name": "stdout",
     "output_type": "stream",
     "text": [
      "Checking playlist: Top 50 Australia\n",
      "Checking playlist: New Music Friday AU & NZ\n",
      "Checking playlist: Hot Hits Australia\n",
      "Checking playlist: Front Left\n",
      "Checking playlist: A1\n",
      "Checking playlist: Dance Generation\n",
      "Checking playlist: Get Popped!\n",
      "Checking playlist: R&B Connect\n",
      "Checking playlist: triple j's New Music Hitlist\n",
      "Checking playlist: The Flavour\n",
      "Checking playlist: Fresh Country\n",
      "Checking playlist: New Dance Beats\n",
      "Checking playlist: Pop n' Fresh\n",
      "Checking playlist: R&B Feels\n",
      "Checking playlist: Beats n' Bars\n",
      "Checking playlist: Indie Arrivals\n",
      "Checking playlist: Rock Out.\n",
      "Checking playlist: Mellow Styles\n",
      "Checking playlist: POP EDGE\n",
      "Checking playlist: The Drip\n",
      "Checking playlist: come thru\n",
      "Checking playlist: Alt Here\n",
      "Checking playlist: Breaking Hits\n",
      "Checking playlist: Chilled Hits\n",
      "Checking playlist: Vibe Check\n",
      "Checking playlist: crush\n",
      "Checking playlist: the hybrid\n",
      "Checking playlist: Just Chill\n",
      "Checking playlist: Morning Motivation\n",
      "Checking playlist: Lazy Sunday\n",
      "Checking playlist: Today's Top Hits\n",
      "Checking playlist: Singled Out\n"
     ]
    }
   ],
   "source": [
    "# New Music Friday AU & NZ playlist \n",
    "playlist_id = '37i9dQZF1DWT2SPAYawYcO'\n",
    "\n",
    "# Fetches track names and artist names from New Music Friday AU & NZ\n",
    "# Returns a list of tuples, each containing a track name and concatenated artist names.\n",
    "# Example, [('Foam', 'Royel Otis'),('One More Night', 'KUČKA, Flume')]\n",
    "track_details = get_playlist_tracks_and_artists(sp, playlist_id)\n",
    "\n",
    "# Uses`track_details` from above and `playlists_dict' (loaded JSON file)\n",
    "# Finds the positions of each track in multiple playlists\n",
    "\n",
    "track_positions = find_tracks_positions_in_playlists(sp, track_details, playlists_dict)"
   ]
  },
  {
   "cell_type": "markdown",
   "metadata": {},
   "source": [
    "`track_positions` example:\n",
    "\n",
    "```json\n",
    "{\n",
    "  \"TEXAS HOLD 'EM - Beyoncé\": {\n",
    "    \"track_name\": \"TEXAS HOLD 'EM\",\n",
    "    \"artist_name\": \"Beyoncé\",\n",
    "    \"playlists\": [\n",
    "      {\"playlist\": \"Top 50 Australia\", \"position\": 5},\n",
    "      {\"playlist\": \"New Music Friday AU & NZ\", \"position\": 1},\n",
    "      {\"playlist\": \"Hot Hits Australia\", \"position\": 10}\n",
    "    ]\n",
    "  }\n",
    "}\n"
   ]
  },
  {
   "cell_type": "markdown",
   "metadata": {},
   "source": [
    "### Fetch Follower Count For Each Playlist:"
   ]
  },
  {
   "cell_type": "code",
   "execution_count": 7,
   "metadata": {},
   "outputs": [
    {
     "name": "stdout",
     "output_type": "stream",
     "text": [
      "Playlist followers data have been fetched\n"
     ]
    }
   ],
   "source": [
    "# Fetching playlist follower counts\n",
    "# Dictionary to store follower counts\n",
    "playlist_followers = {}\n",
    "\n",
    "# Fetching follower counts\n",
    "for playlist_name, playlist_id in playlists_dict.items():\n",
    "    playlist = sp.playlist(playlist_id)\n",
    "    follower_count = playlist['followers']['total']\n",
    "    playlist_followers[playlist_name] = follower_count\n",
    "    if 'followers' not in playlist:\n",
    "        logging.warning(f\"Followers data missing in the playlist data for {playlist_id}\")\n",
    "print(\"Playlist followers data have been fetched\")\n",
    "# # Printing the result\n",
    "\n",
    "# for playlist_name, followers in playlist_followers.items():\n",
    "#     print(f\"{playlist_name}: {followers:,} followers\")"
   ]
  },
  {
   "cell_type": "markdown",
   "metadata": {},
   "source": [
    "### Create and save Dataframe with Spotify data:"
   ]
  },
  {
   "cell_type": "code",
   "execution_count": 4,
   "metadata": {},
   "outputs": [],
   "source": [
    "\n",
    "rows = []\n",
    "\n",
    "for track_id, track_info in track_positions.items():\n",
    "    artist_name = track_info['artist_name']\n",
    "    track_name = track_info['track_name']\n",
    "    for playlist_info in track_info['playlists']:\n",
    "        playlist_name = playlist_info['playlist']\n",
    "        position = playlist_info['position']\n",
    "        # Fetch the actual follower count using the playlist name\n",
    "        followers = playlist_followers.get(playlist_name, 0)  # Default to 0 if playlist not found\n",
    "        rows.append({\n",
    "            'Artist': artist_name,\n",
    "            'Title': track_name,\n",
    "            'Playlist': playlist_name,\n",
    "            'Position': position,\n",
    "            'Followers': followers\n",
    "        })\n",
    "\n",
    "# Convert the list of rows into a DataFrame\n",
    "df = pd.DataFrame(rows)\n",
    "\n",
    "df.to_csv('streamlit.csv', index=False)"
   ]
  },
  {
   "cell_type": "markdown",
   "metadata": {},
   "source": [
    "### Fetch Playlist Images:"
   ]
  },
  {
   "cell_type": "code",
   "execution_count": null,
   "metadata": {},
   "outputs": [],
   "source": [
    "cover_art_dict = {}\n",
    "\n",
    "for playlist_name, playlist_id in playlists_dict.items():\n",
    "\n",
    "    playlist_data = sp.playlist(playlist_id)\n",
    "\n",
    "    # Fetching playlist cover image URL\n",
    "    cover_image_url = playlist_data['images'][0]['url'] if playlist_data['images'] else 'No image available'\n",
    "\n",
    "    # append to dictionary \n",
    "    cover_art_dict[playlist_name] = cover_image_url\n"
   ]
  },
  {
   "cell_type": "markdown",
   "metadata": {},
   "source": [
    "### Fetch Cover Artist Details:"
   ]
  },
  {
   "cell_type": "code",
   "execution_count": 27,
   "metadata": {},
   "outputs": [],
   "source": [
    "# Initialize the dictionary outside of the loop\n",
    "cover_artist_dict = {}\n",
    "\n",
    "for playlist_name, playlist_id in playlists_dict.items():\n",
    "    # Fetch playlist data from Spotify\n",
    "    playlist = sp.playlist(playlist_id)\n",
    "\n",
    "    # Extract the required information\n",
    "    playlist_description = playlist.get('description', 'No description available')\n",
    "\n",
    "    # Use regex for case-insensitive search for 'Cover: ' and extract the cover artist name\n",
    "    match = re.search(r'cover:\\s*(.*?)$', playlist_description, re.IGNORECASE)\n",
    "    if match:\n",
    "        cover_artist = match.group(1)  # Extract the matched artist name\n",
    "        # Optional: if you want to stop at the first period (.)\n",
    "        if '.' in cover_artist:\n",
    "            cover_artist = cover_artist.split('.')[0]\n",
    "        # Add to the dictionary only if the cover artist is meaningful (not 'No cover artist found')\n",
    "        if cover_artist.strip().lower() != \"no cover artist found\":\n",
    "            cover_artist_dict[playlist_name] = cover_artist"
   ]
  },
  {
   "cell_type": "markdown",
   "metadata": {},
   "source": [
    "### Remove Image URLs from `cover_art_dict` that don't have a Cover Artist. As they will not be needed. Only Cover Art featuring an artist is useful. "
   ]
  },
  {
   "cell_type": "code",
   "execution_count": 30,
   "metadata": {},
   "outputs": [],
   "source": [
    "# Create a new dictionary that will only include matching keys\n",
    "filtered_cover_art_dict = {}\n",
    "\n",
    "# Loop through the cover_art_dict\n",
    "for playlist_name in cover_art_dict:\n",
    "    # Check if the current key also exists in cover_artist_dict\n",
    "    if playlist_name in cover_artist_dict:\n",
    "        # Add it to the new dictionary\n",
    "        filtered_cover_art_dict[playlist_name] = cover_art_dict[playlist_name]"
   ]
  },
  {
   "cell_type": "markdown",
   "metadata": {},
   "source": [
    "### Saving dictionary's to JSON files for later import use into Streamlit."
   ]
  },
  {
   "cell_type": "code",
   "execution_count": 31,
   "metadata": {},
   "outputs": [],
   "source": [
    "data = {\n",
    "    'filtered_cover_art_dict': filtered_cover_art_dict,\n",
    "    'cover_artist_dict': cover_artist_dict\n",
    "}\n",
    "\n",
    "# Write the combined dictionary to a file\n",
    "with open('cover_art_data.json', 'w') as f:\n",
    "    json.dump(data, f, indent=4)"
   ]
  }
 ],
 "metadata": {
  "kernelspec": {
   "display_name": "dev",
   "language": "python",
   "name": "python3"
  },
  "language_info": {
   "codemirror_mode": {
    "name": "ipython",
    "version": 3
   },
   "file_extension": ".py",
   "mimetype": "text/x-python",
   "name": "python",
   "nbconvert_exporter": "python",
   "pygments_lexer": "ipython3",
   "version": "3.10.11"
  }
 },
 "nbformat": 4,
 "nbformat_minor": 2
}
